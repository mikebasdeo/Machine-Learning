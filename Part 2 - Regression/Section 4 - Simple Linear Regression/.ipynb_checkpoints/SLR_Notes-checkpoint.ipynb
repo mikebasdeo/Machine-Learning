{
 "cells": [
  {
   "cell_type": "markdown",
   "metadata": {},
   "source": [
    "# Simple Li"
   ]
  },
  {
   "cell_type": "markdown",
   "metadata": {},
   "source": [
    "Because our age and Salary columns have different ranges, this will be distorted when taking the Euclidian distance between them."
   ]
  },
  {
   "cell_type": "markdown",
   "metadata": {},
   "source": [
    "### Euclidian Distance between two points, \n",
    "$\\text{Age}(x_1, y_1)$ and $\\text{Salary}P_2(x_2, y_2)$: \n",
    "\\begin{align*} \n",
    "\\sqrt{(x_2-x_1)^2 + (y_2-y_1)^2}\n",
    "\\end{align*}\n",
    "\n",
    "Because Salary has much larger values than Age, Age will be dominated by Salary. This can be solved using feature scaling."
   ]
  },
  {
   "cell_type": "markdown",
   "metadata": {},
   "source": [
    "## Feature Scaling\n",
    "\n",
    "### Standardization\n",
    "\\begin{align*} \n",
    "x_{stand} = \\frac{x-\\text{mean}(x)}{\\text{standard deviation}(x)}\n",
    "\\end{align*}\n",
    "\n",
    "### Normalization\n",
    "\\begin{align*} \n",
    "x_{norm} = \\frac{x-\\text{min}(x)}{\\text{max}(x)-\\text{min}(x)}\n",
    "\\end{align*}"
   ]
  },
  {
   "cell_type": "code",
   "execution_count": null,
   "metadata": {},
   "outputs": [],
   "source": []
  }
 ],
 "metadata": {
  "kernelspec": {
   "display_name": "Python 3",
   "language": "python",
   "name": "python3"
  },
  "language_info": {
   "codemirror_mode": {
    "name": "ipython",
    "version": 3
   },
   "file_extension": ".py",
   "mimetype": "text/x-python",
   "name": "python",
   "nbconvert_exporter": "python",
   "pygments_lexer": "ipython3",
   "version": "3.6.3"
  }
 },
 "nbformat": 4,
 "nbformat_minor": 2
}
